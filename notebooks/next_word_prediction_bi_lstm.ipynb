{
  "metadata": {
    "kernelspec": {
      "display_name": "Python 3",
      "name": "python3"
    },
    "language_info": {
      "name": "python",
      "version": "3.7.10",
      "mimetype": "text/x-python",
      "codemirror_mode": {
        "name": "ipython",
        "version": 3
      },
      "pygments_lexer": "ipython3",
      "nbconvert_exporter": "python",
      "file_extension": ".py"
    },
    "colab": {
      "provenance": [],
      "machine_shape": "hm",
      "gpuType": "A100"
    },
    "accelerator": "GPU"
  },
  "nbformat_minor": 0,
  "nbformat": 4,
  "cells": [
    {
      "cell_type": "markdown",
      "source": [
        "### Table Content\n",
        "------------------\n",
        "\n",
        "- [Introduction](#intro)\n",
        "- [Import libraries and packages](#ilp)\n",
        "- [Dataset Information](#di)\n",
        "- [Separate 'Title' field and preprocess it](#preprocess)\n",
        "    - [Removing unwanted charaters and words](#remv)\n",
        "    - [Tokenization and word_index (vocabulary) ](#token)\n",
        "    - [Convert titles into sequences and Make n_gram model](#ngram)\n",
        "    - [Make all titles with same length and padding them](#pad)\n",
        "- [Preprare features (X) and labels (Y)](#xy)\n",
        "- [Architechture of Bidirectional LSTM neural network](#blstm)\n",
        "- [Train Bi-LSTM neural network](#train)\n",
        "- [Plotting accuracy and loss graph](#acc)\n",
        "- [Predict new title (Testing)](#new)\n",
        "\n",
        "----------------\n",
        "\n",
        "\n"
      ],
      "metadata": {
        "id": "k8zeDdv47d7p"
      }
    },
    {
      "cell_type": "markdown",
      "source": [
        "<a name=\"intro\"></a>\n",
        "\n",
        "# Introduction\n",
        "\n",
        "**Next Word Prediction (also called Language Modeling) is the task of predicting what word comes next. It is one of the fundamental tasks of NLP.**\n",
        "\n",
        "\n",
        "It is poosible through natural language processing (NLP) technique. Here, we will use NLP and try to make a prediction model using Bidirectional LSTM (Long short-term memory) model that will predict next words of sentence.\n",
        ""
      ],
      "metadata": {
        "id": "1CpDwvJf7d7s"
      }
    },
    {
      "cell_type": "markdown",
      "source": [
        "<a name=\"ilp\"></a>\n",
        "# Import necessary libraries and packages"
      ],
      "metadata": {
        "id": "mJ9GHX3B7d7t"
      }
    },
    {
      "cell_type": "code",
      "source": [
        "!pip install kaggle\n",
        "!pip install pandas\n",
        "!pip install numpy\n",
        "!pip install tensorflow\n",
        "!pip install keras\n",
        "!pip install seaborn"
      ],
      "metadata": {
        "colab": {
          "base_uri": "https://localhost:8080/"
        },
        "id": "tqQaqVp87wU-",
        "outputId": "27ad6c27-16bd-43a7-e492-1a4cd93d292d"
      },
      "execution_count": 1,
      "outputs": [
        {
          "output_type": "stream",
          "name": "stdout",
          "text": [
            "Requirement already satisfied: kaggle in /usr/local/lib/python3.10/dist-packages (1.6.14)\n",
            "Requirement already satisfied: six>=1.10 in /usr/local/lib/python3.10/dist-packages (from kaggle) (1.16.0)\n",
            "Requirement already satisfied: certifi>=2023.7.22 in /usr/local/lib/python3.10/dist-packages (from kaggle) (2024.2.2)\n",
            "Requirement already satisfied: python-dateutil in /usr/local/lib/python3.10/dist-packages (from kaggle) (2.8.2)\n",
            "Requirement already satisfied: requests in /usr/local/lib/python3.10/dist-packages (from kaggle) (2.31.0)\n",
            "Requirement already satisfied: tqdm in /usr/local/lib/python3.10/dist-packages (from kaggle) (4.66.4)\n",
            "Requirement already satisfied: python-slugify in /usr/local/lib/python3.10/dist-packages (from kaggle) (8.0.4)\n",
            "Requirement already satisfied: urllib3 in /usr/local/lib/python3.10/dist-packages (from kaggle) (2.0.7)\n",
            "Requirement already satisfied: bleach in /usr/local/lib/python3.10/dist-packages (from kaggle) (6.1.0)\n",
            "Requirement already satisfied: webencodings in /usr/local/lib/python3.10/dist-packages (from bleach->kaggle) (0.5.1)\n",
            "Requirement already satisfied: text-unidecode>=1.3 in /usr/local/lib/python3.10/dist-packages (from python-slugify->kaggle) (1.3)\n",
            "Requirement already satisfied: charset-normalizer<4,>=2 in /usr/local/lib/python3.10/dist-packages (from requests->kaggle) (3.3.2)\n",
            "Requirement already satisfied: idna<4,>=2.5 in /usr/local/lib/python3.10/dist-packages (from requests->kaggle) (3.7)\n",
            "Requirement already satisfied: pandas in /usr/local/lib/python3.10/dist-packages (2.0.3)\n",
            "Requirement already satisfied: python-dateutil>=2.8.2 in /usr/local/lib/python3.10/dist-packages (from pandas) (2.8.2)\n",
            "Requirement already satisfied: pytz>=2020.1 in /usr/local/lib/python3.10/dist-packages (from pandas) (2023.4)\n",
            "Requirement already satisfied: tzdata>=2022.1 in /usr/local/lib/python3.10/dist-packages (from pandas) (2024.1)\n",
            "Requirement already satisfied: numpy>=1.21.0 in /usr/local/lib/python3.10/dist-packages (from pandas) (1.25.2)\n",
            "Requirement already satisfied: six>=1.5 in /usr/local/lib/python3.10/dist-packages (from python-dateutil>=2.8.2->pandas) (1.16.0)\n",
            "Requirement already satisfied: numpy in /usr/local/lib/python3.10/dist-packages (1.25.2)\n",
            "Requirement already satisfied: tensorflow in /usr/local/lib/python3.10/dist-packages (2.15.0)\n",
            "Requirement already satisfied: absl-py>=1.0.0 in /usr/local/lib/python3.10/dist-packages (from tensorflow) (1.4.0)\n",
            "Requirement already satisfied: astunparse>=1.6.0 in /usr/local/lib/python3.10/dist-packages (from tensorflow) (1.6.3)\n",
            "Requirement already satisfied: flatbuffers>=23.5.26 in /usr/local/lib/python3.10/dist-packages (from tensorflow) (24.3.25)\n",
            "Requirement already satisfied: gast!=0.5.0,!=0.5.1,!=0.5.2,>=0.2.1 in /usr/local/lib/python3.10/dist-packages (from tensorflow) (0.5.4)\n",
            "Requirement already satisfied: google-pasta>=0.1.1 in /usr/local/lib/python3.10/dist-packages (from tensorflow) (0.2.0)\n",
            "Requirement already satisfied: h5py>=2.9.0 in /usr/local/lib/python3.10/dist-packages (from tensorflow) (3.9.0)\n",
            "Requirement already satisfied: libclang>=13.0.0 in /usr/local/lib/python3.10/dist-packages (from tensorflow) (18.1.1)\n",
            "Requirement already satisfied: ml-dtypes~=0.2.0 in /usr/local/lib/python3.10/dist-packages (from tensorflow) (0.2.0)\n",
            "Requirement already satisfied: numpy<2.0.0,>=1.23.5 in /usr/local/lib/python3.10/dist-packages (from tensorflow) (1.25.2)\n",
            "Requirement already satisfied: opt-einsum>=2.3.2 in /usr/local/lib/python3.10/dist-packages (from tensorflow) (3.3.0)\n",
            "Requirement already satisfied: packaging in /usr/local/lib/python3.10/dist-packages (from tensorflow) (24.0)\n",
            "Requirement already satisfied: protobuf!=4.21.0,!=4.21.1,!=4.21.2,!=4.21.3,!=4.21.4,!=4.21.5,<5.0.0dev,>=3.20.3 in /usr/local/lib/python3.10/dist-packages (from tensorflow) (3.20.3)\n",
            "Requirement already satisfied: setuptools in /usr/local/lib/python3.10/dist-packages (from tensorflow) (67.7.2)\n",
            "Requirement already satisfied: six>=1.12.0 in /usr/local/lib/python3.10/dist-packages (from tensorflow) (1.16.0)\n",
            "Requirement already satisfied: termcolor>=1.1.0 in /usr/local/lib/python3.10/dist-packages (from tensorflow) (2.4.0)\n",
            "Requirement already satisfied: typing-extensions>=3.6.6 in /usr/local/lib/python3.10/dist-packages (from tensorflow) (4.11.0)\n",
            "Requirement already satisfied: wrapt<1.15,>=1.11.0 in /usr/local/lib/python3.10/dist-packages (from tensorflow) (1.14.1)\n",
            "Requirement already satisfied: tensorflow-io-gcs-filesystem>=0.23.1 in /usr/local/lib/python3.10/dist-packages (from tensorflow) (0.37.0)\n",
            "Requirement already satisfied: grpcio<2.0,>=1.24.3 in /usr/local/lib/python3.10/dist-packages (from tensorflow) (1.64.0)\n",
            "Requirement already satisfied: tensorboard<2.16,>=2.15 in /usr/local/lib/python3.10/dist-packages (from tensorflow) (2.15.2)\n",
            "Requirement already satisfied: tensorflow-estimator<2.16,>=2.15.0 in /usr/local/lib/python3.10/dist-packages (from tensorflow) (2.15.0)\n",
            "Requirement already satisfied: keras<2.16,>=2.15.0 in /usr/local/lib/python3.10/dist-packages (from tensorflow) (2.15.0)\n",
            "Requirement already satisfied: wheel<1.0,>=0.23.0 in /usr/local/lib/python3.10/dist-packages (from astunparse>=1.6.0->tensorflow) (0.43.0)\n",
            "Requirement already satisfied: google-auth<3,>=1.6.3 in /usr/local/lib/python3.10/dist-packages (from tensorboard<2.16,>=2.15->tensorflow) (2.27.0)\n",
            "Requirement already satisfied: google-auth-oauthlib<2,>=0.5 in /usr/local/lib/python3.10/dist-packages (from tensorboard<2.16,>=2.15->tensorflow) (1.2.0)\n",
            "Requirement already satisfied: markdown>=2.6.8 in /usr/local/lib/python3.10/dist-packages (from tensorboard<2.16,>=2.15->tensorflow) (3.6)\n",
            "Requirement already satisfied: requests<3,>=2.21.0 in /usr/local/lib/python3.10/dist-packages (from tensorboard<2.16,>=2.15->tensorflow) (2.31.0)\n",
            "Requirement already satisfied: tensorboard-data-server<0.8.0,>=0.7.0 in /usr/local/lib/python3.10/dist-packages (from tensorboard<2.16,>=2.15->tensorflow) (0.7.2)\n",
            "Requirement already satisfied: werkzeug>=1.0.1 in /usr/local/lib/python3.10/dist-packages (from tensorboard<2.16,>=2.15->tensorflow) (3.0.3)\n",
            "Requirement already satisfied: cachetools<6.0,>=2.0.0 in /usr/local/lib/python3.10/dist-packages (from google-auth<3,>=1.6.3->tensorboard<2.16,>=2.15->tensorflow) (5.3.3)\n",
            "Requirement already satisfied: pyasn1-modules>=0.2.1 in /usr/local/lib/python3.10/dist-packages (from google-auth<3,>=1.6.3->tensorboard<2.16,>=2.15->tensorflow) (0.4.0)\n",
            "Requirement already satisfied: rsa<5,>=3.1.4 in /usr/local/lib/python3.10/dist-packages (from google-auth<3,>=1.6.3->tensorboard<2.16,>=2.15->tensorflow) (4.9)\n",
            "Requirement already satisfied: requests-oauthlib>=0.7.0 in /usr/local/lib/python3.10/dist-packages (from google-auth-oauthlib<2,>=0.5->tensorboard<2.16,>=2.15->tensorflow) (1.3.1)\n",
            "Requirement already satisfied: charset-normalizer<4,>=2 in /usr/local/lib/python3.10/dist-packages (from requests<3,>=2.21.0->tensorboard<2.16,>=2.15->tensorflow) (3.3.2)\n",
            "Requirement already satisfied: idna<4,>=2.5 in /usr/local/lib/python3.10/dist-packages (from requests<3,>=2.21.0->tensorboard<2.16,>=2.15->tensorflow) (3.7)\n",
            "Requirement already satisfied: urllib3<3,>=1.21.1 in /usr/local/lib/python3.10/dist-packages (from requests<3,>=2.21.0->tensorboard<2.16,>=2.15->tensorflow) (2.0.7)\n",
            "Requirement already satisfied: certifi>=2017.4.17 in /usr/local/lib/python3.10/dist-packages (from requests<3,>=2.21.0->tensorboard<2.16,>=2.15->tensorflow) (2024.2.2)\n",
            "Requirement already satisfied: MarkupSafe>=2.1.1 in /usr/local/lib/python3.10/dist-packages (from werkzeug>=1.0.1->tensorboard<2.16,>=2.15->tensorflow) (2.1.5)\n",
            "Requirement already satisfied: pyasn1<0.7.0,>=0.4.6 in /usr/local/lib/python3.10/dist-packages (from pyasn1-modules>=0.2.1->google-auth<3,>=1.6.3->tensorboard<2.16,>=2.15->tensorflow) (0.6.0)\n",
            "Requirement already satisfied: oauthlib>=3.0.0 in /usr/local/lib/python3.10/dist-packages (from requests-oauthlib>=0.7.0->google-auth-oauthlib<2,>=0.5->tensorboard<2.16,>=2.15->tensorflow) (3.2.2)\n",
            "Requirement already satisfied: keras in /usr/local/lib/python3.10/dist-packages (2.15.0)\n",
            "Requirement already satisfied: seaborn in /usr/local/lib/python3.10/dist-packages (0.13.1)\n",
            "Requirement already satisfied: numpy!=1.24.0,>=1.20 in /usr/local/lib/python3.10/dist-packages (from seaborn) (1.25.2)\n",
            "Requirement already satisfied: pandas>=1.2 in /usr/local/lib/python3.10/dist-packages (from seaborn) (2.0.3)\n",
            "Requirement already satisfied: matplotlib!=3.6.1,>=3.4 in /usr/local/lib/python3.10/dist-packages (from seaborn) (3.7.1)\n",
            "Requirement already satisfied: contourpy>=1.0.1 in /usr/local/lib/python3.10/dist-packages (from matplotlib!=3.6.1,>=3.4->seaborn) (1.2.1)\n",
            "Requirement already satisfied: cycler>=0.10 in /usr/local/lib/python3.10/dist-packages (from matplotlib!=3.6.1,>=3.4->seaborn) (0.12.1)\n",
            "Requirement already satisfied: fonttools>=4.22.0 in /usr/local/lib/python3.10/dist-packages (from matplotlib!=3.6.1,>=3.4->seaborn) (4.51.0)\n",
            "Requirement already satisfied: kiwisolver>=1.0.1 in /usr/local/lib/python3.10/dist-packages (from matplotlib!=3.6.1,>=3.4->seaborn) (1.4.5)\n",
            "Requirement already satisfied: packaging>=20.0 in /usr/local/lib/python3.10/dist-packages (from matplotlib!=3.6.1,>=3.4->seaborn) (24.0)\n",
            "Requirement already satisfied: pillow>=6.2.0 in /usr/local/lib/python3.10/dist-packages (from matplotlib!=3.6.1,>=3.4->seaborn) (9.4.0)\n",
            "Requirement already satisfied: pyparsing>=2.3.1 in /usr/local/lib/python3.10/dist-packages (from matplotlib!=3.6.1,>=3.4->seaborn) (3.1.2)\n",
            "Requirement already satisfied: python-dateutil>=2.7 in /usr/local/lib/python3.10/dist-packages (from matplotlib!=3.6.1,>=3.4->seaborn) (2.8.2)\n",
            "Requirement already satisfied: pytz>=2020.1 in /usr/local/lib/python3.10/dist-packages (from pandas>=1.2->seaborn) (2023.4)\n",
            "Requirement already satisfied: tzdata>=2022.1 in /usr/local/lib/python3.10/dist-packages (from pandas>=1.2->seaborn) (2024.1)\n",
            "Requirement already satisfied: six>=1.5 in /usr/local/lib/python3.10/dist-packages (from python-dateutil>=2.7->matplotlib!=3.6.1,>=3.4->seaborn) (1.16.0)\n"
          ]
        }
      ]
    },
    {
      "cell_type": "code",
      "source": [
        "import pandas as pd\n",
        "import os\n",
        "import numpy as np\n",
        "\n",
        "import tensorflow as tf\n",
        "from tensorflow.keras.preprocessing.sequence import pad_sequences\n",
        "from tensorflow.keras.layers import Embedding, LSTM, Dense, Bidirectional\n",
        "from tensorflow.keras.preprocessing.text import Tokenizer\n",
        "from tensorflow.keras.models import Sequential\n",
        "from tensorflow.keras.optimizers import Adam"
      ],
      "metadata": {
        "_uuid": "8f2839f25d086af736a60e9eeb907d3b93b6e0e5",
        "_cell_guid": "b1076dfc-b9ad-4769-8c92-a6c4dae69d19",
        "execution": {
          "iopub.status.busy": "2021-08-15T06:01:42.941108Z",
          "iopub.execute_input": "2021-08-15T06:01:42.941588Z",
          "iopub.status.idle": "2021-08-15T06:01:47.401922Z",
          "shell.execute_reply.started": "2021-08-15T06:01:42.941462Z",
          "shell.execute_reply": "2021-08-15T06:01:47.401082Z"
        },
        "trusted": true,
        "id": "Kni9ff707d7u"
      },
      "execution_count": 2,
      "outputs": []
    },
    {
      "cell_type": "markdown",
      "source": [
        "<a name=\"di\"></a>\n",
        "# Dataset information\n",
        "\n",
        "**Import Medium-articles-dataset:**\n",
        "\n",
        "This dataset contains information about randomly chosen medium articles published in 2019 from these 7 publications:\n",
        "\n",
        "- Towards Data Science\n",
        "- UX Collective\n",
        "- The Startup\n",
        "- The Writing Cooperative\n",
        "- Data Driven Investor\n",
        "- Better Humans\n",
        "- Better Marketing\n"
      ],
      "metadata": {
        "id": "YTyU6G337d7v"
      }
    },
    {
      "cell_type": "code",
      "source": [
        "!kaggle datasets download -d dorianlazar/medium-articles-dataset"
      ],
      "metadata": {
        "colab": {
          "base_uri": "https://localhost:8080/"
        },
        "id": "JiEahNYO8R2U",
        "outputId": "0909a355-5302-4be8-b230-aedae8c34630"
      },
      "execution_count": 3,
      "outputs": [
        {
          "output_type": "stream",
          "name": "stdout",
          "text": [
            "Dataset URL: https://www.kaggle.com/datasets/dorianlazar/medium-articles-dataset\n",
            "License(s): CC0-1.0\n",
            "Downloading medium-articles-dataset.zip to /content\n",
            "100% 1.32G/1.33G [00:59<00:00, 16.7MB/s]\n",
            "100% 1.33G/1.33G [00:59<00:00, 23.9MB/s]\n"
          ]
        }
      ]
    },
    {
      "cell_type": "code",
      "source": [
        "import zipfile\n",
        "import os\n",
        "\n",
        "# Define the path to the zip file and the extraction path\n",
        "zip_path = 'medium-articles-dataset.zip'\n",
        "extract_path = 'medium-articles-dataset'\n",
        "\n",
        "# Create a directory for the extracted files\n",
        "os.makedirs(extract_path, exist_ok=True)\n",
        "\n",
        "# Extract the zip file\n",
        "with zipfile.ZipFile(zip_path, 'r') as zip_ref:\n",
        "    zip_ref.extractall(extract_path)\n",
        "\n",
        "print(\"Files extracted to:\", extract_path)\n"
      ],
      "metadata": {
        "colab": {
          "base_uri": "https://localhost:8080/"
        },
        "id": "FFJ6mwTd8bNe",
        "outputId": "186cd904-fe38-4da7-e94d-e47986e4ce56"
      },
      "execution_count": 4,
      "outputs": [
        {
          "output_type": "stream",
          "name": "stdout",
          "text": [
            "Files extracted to: medium-articles-dataset\n"
          ]
        }
      ]
    },
    {
      "cell_type": "code",
      "source": [
        "medium_data = pd.read_csv('medium-articles-dataset/medium_data.csv')\n",
        "medium_data.head()"
      ],
      "metadata": {
        "execution": {
          "iopub.status.busy": "2021-08-15T06:01:47.403383Z",
          "iopub.execute_input": "2021-08-15T06:01:47.403731Z",
          "iopub.status.idle": "2021-08-15T06:01:47.508925Z",
          "shell.execute_reply.started": "2021-08-15T06:01:47.403696Z",
          "shell.execute_reply": "2021-08-15T06:01:47.507977Z"
        },
        "trusted": true,
        "colab": {
          "base_uri": "https://localhost:8080/",
          "height": 469
        },
        "id": "QOijOb877d7v",
        "outputId": "70d23bd2-1065-4d2a-9cc6-575acb0d0a35"
      },
      "execution_count": 5,
      "outputs": [
        {
          "output_type": "execute_result",
          "data": {
            "text/plain": [
              "   id                                                url  \\\n",
              "0   1  https://towardsdatascience.com/a-beginners-gui...   \n",
              "1   2  https://towardsdatascience.com/hands-on-graph-...   \n",
              "2   3  https://towardsdatascience.com/how-to-use-ggpl...   \n",
              "3   4  https://towardsdatascience.com/databricks-how-...   \n",
              "4   5  https://towardsdatascience.com/a-step-by-step-...   \n",
              "\n",
              "                                               title  \\\n",
              "0  A Beginner’s Guide to Word Embedding with Gens...   \n",
              "1  Hands-on Graph Neural Networks with PyTorch & ...   \n",
              "2                       How to Use ggplot2 in Python   \n",
              "3  Databricks: How to Save Files in CSV on Your L...   \n",
              "4  A Step-by-Step Implementation of Gradient Desc...   \n",
              "\n",
              "                                  subtitle   image  claps responses  \\\n",
              "0                                      NaN   1.png    850         8   \n",
              "1                                      NaN   2.png   1100        11   \n",
              "2         A Grammar of Graphics for Python   3.png    767         1   \n",
              "3  When I work on Python projects dealing…  4.jpeg    354         0   \n",
              "4          One example of building neural…  5.jpeg    211         3   \n",
              "\n",
              "   reading_time           publication        date  \n",
              "0             8  Towards Data Science  2019-05-30  \n",
              "1             9  Towards Data Science  2019-05-30  \n",
              "2             5  Towards Data Science  2019-05-30  \n",
              "3             4  Towards Data Science  2019-05-30  \n",
              "4             4  Towards Data Science  2019-05-30  "
            ],
            "text/html": [
              "\n",
              "  <div id=\"df-c284ceaf-02c5-4be3-8c3e-38acef481e2a\" class=\"colab-df-container\">\n",
              "    <div>\n",
              "<style scoped>\n",
              "    .dataframe tbody tr th:only-of-type {\n",
              "        vertical-align: middle;\n",
              "    }\n",
              "\n",
              "    .dataframe tbody tr th {\n",
              "        vertical-align: top;\n",
              "    }\n",
              "\n",
              "    .dataframe thead th {\n",
              "        text-align: right;\n",
              "    }\n",
              "</style>\n",
              "<table border=\"1\" class=\"dataframe\">\n",
              "  <thead>\n",
              "    <tr style=\"text-align: right;\">\n",
              "      <th></th>\n",
              "      <th>id</th>\n",
              "      <th>url</th>\n",
              "      <th>title</th>\n",
              "      <th>subtitle</th>\n",
              "      <th>image</th>\n",
              "      <th>claps</th>\n",
              "      <th>responses</th>\n",
              "      <th>reading_time</th>\n",
              "      <th>publication</th>\n",
              "      <th>date</th>\n",
              "    </tr>\n",
              "  </thead>\n",
              "  <tbody>\n",
              "    <tr>\n",
              "      <th>0</th>\n",
              "      <td>1</td>\n",
              "      <td>https://towardsdatascience.com/a-beginners-gui...</td>\n",
              "      <td>A Beginner’s Guide to Word Embedding with Gens...</td>\n",
              "      <td>NaN</td>\n",
              "      <td>1.png</td>\n",
              "      <td>850</td>\n",
              "      <td>8</td>\n",
              "      <td>8</td>\n",
              "      <td>Towards Data Science</td>\n",
              "      <td>2019-05-30</td>\n",
              "    </tr>\n",
              "    <tr>\n",
              "      <th>1</th>\n",
              "      <td>2</td>\n",
              "      <td>https://towardsdatascience.com/hands-on-graph-...</td>\n",
              "      <td>Hands-on Graph Neural Networks with PyTorch &amp; ...</td>\n",
              "      <td>NaN</td>\n",
              "      <td>2.png</td>\n",
              "      <td>1100</td>\n",
              "      <td>11</td>\n",
              "      <td>9</td>\n",
              "      <td>Towards Data Science</td>\n",
              "      <td>2019-05-30</td>\n",
              "    </tr>\n",
              "    <tr>\n",
              "      <th>2</th>\n",
              "      <td>3</td>\n",
              "      <td>https://towardsdatascience.com/how-to-use-ggpl...</td>\n",
              "      <td>How to Use ggplot2 in Python</td>\n",
              "      <td>A Grammar of Graphics for Python</td>\n",
              "      <td>3.png</td>\n",
              "      <td>767</td>\n",
              "      <td>1</td>\n",
              "      <td>5</td>\n",
              "      <td>Towards Data Science</td>\n",
              "      <td>2019-05-30</td>\n",
              "    </tr>\n",
              "    <tr>\n",
              "      <th>3</th>\n",
              "      <td>4</td>\n",
              "      <td>https://towardsdatascience.com/databricks-how-...</td>\n",
              "      <td>Databricks: How to Save Files in CSV on Your L...</td>\n",
              "      <td>When I work on Python projects dealing…</td>\n",
              "      <td>4.jpeg</td>\n",
              "      <td>354</td>\n",
              "      <td>0</td>\n",
              "      <td>4</td>\n",
              "      <td>Towards Data Science</td>\n",
              "      <td>2019-05-30</td>\n",
              "    </tr>\n",
              "    <tr>\n",
              "      <th>4</th>\n",
              "      <td>5</td>\n",
              "      <td>https://towardsdatascience.com/a-step-by-step-...</td>\n",
              "      <td>A Step-by-Step Implementation of Gradient Desc...</td>\n",
              "      <td>One example of building neural…</td>\n",
              "      <td>5.jpeg</td>\n",
              "      <td>211</td>\n",
              "      <td>3</td>\n",
              "      <td>4</td>\n",
              "      <td>Towards Data Science</td>\n",
              "      <td>2019-05-30</td>\n",
              "    </tr>\n",
              "  </tbody>\n",
              "</table>\n",
              "</div>\n",
              "    <div class=\"colab-df-buttons\">\n",
              "\n",
              "  <div class=\"colab-df-container\">\n",
              "    <button class=\"colab-df-convert\" onclick=\"convertToInteractive('df-c284ceaf-02c5-4be3-8c3e-38acef481e2a')\"\n",
              "            title=\"Convert this dataframe to an interactive table.\"\n",
              "            style=\"display:none;\">\n",
              "\n",
              "  <svg xmlns=\"http://www.w3.org/2000/svg\" height=\"24px\" viewBox=\"0 -960 960 960\">\n",
              "    <path d=\"M120-120v-720h720v720H120Zm60-500h600v-160H180v160Zm220 220h160v-160H400v160Zm0 220h160v-160H400v160ZM180-400h160v-160H180v160Zm440 0h160v-160H620v160ZM180-180h160v-160H180v160Zm440 0h160v-160H620v160Z\"/>\n",
              "  </svg>\n",
              "    </button>\n",
              "\n",
              "  <style>\n",
              "    .colab-df-container {\n",
              "      display:flex;\n",
              "      gap: 12px;\n",
              "    }\n",
              "\n",
              "    .colab-df-convert {\n",
              "      background-color: #E8F0FE;\n",
              "      border: none;\n",
              "      border-radius: 50%;\n",
              "      cursor: pointer;\n",
              "      display: none;\n",
              "      fill: #1967D2;\n",
              "      height: 32px;\n",
              "      padding: 0 0 0 0;\n",
              "      width: 32px;\n",
              "    }\n",
              "\n",
              "    .colab-df-convert:hover {\n",
              "      background-color: #E2EBFA;\n",
              "      box-shadow: 0px 1px 2px rgba(60, 64, 67, 0.3), 0px 1px 3px 1px rgba(60, 64, 67, 0.15);\n",
              "      fill: #174EA6;\n",
              "    }\n",
              "\n",
              "    .colab-df-buttons div {\n",
              "      margin-bottom: 4px;\n",
              "    }\n",
              "\n",
              "    [theme=dark] .colab-df-convert {\n",
              "      background-color: #3B4455;\n",
              "      fill: #D2E3FC;\n",
              "    }\n",
              "\n",
              "    [theme=dark] .colab-df-convert:hover {\n",
              "      background-color: #434B5C;\n",
              "      box-shadow: 0px 1px 3px 1px rgba(0, 0, 0, 0.15);\n",
              "      filter: drop-shadow(0px 1px 2px rgba(0, 0, 0, 0.3));\n",
              "      fill: #FFFFFF;\n",
              "    }\n",
              "  </style>\n",
              "\n",
              "    <script>\n",
              "      const buttonEl =\n",
              "        document.querySelector('#df-c284ceaf-02c5-4be3-8c3e-38acef481e2a button.colab-df-convert');\n",
              "      buttonEl.style.display =\n",
              "        google.colab.kernel.accessAllowed ? 'block' : 'none';\n",
              "\n",
              "      async function convertToInteractive(key) {\n",
              "        const element = document.querySelector('#df-c284ceaf-02c5-4be3-8c3e-38acef481e2a');\n",
              "        const dataTable =\n",
              "          await google.colab.kernel.invokeFunction('convertToInteractive',\n",
              "                                                    [key], {});\n",
              "        if (!dataTable) return;\n",
              "\n",
              "        const docLinkHtml = 'Like what you see? Visit the ' +\n",
              "          '<a target=\"_blank\" href=https://colab.research.google.com/notebooks/data_table.ipynb>data table notebook</a>'\n",
              "          + ' to learn more about interactive tables.';\n",
              "        element.innerHTML = '';\n",
              "        dataTable['output_type'] = 'display_data';\n",
              "        await google.colab.output.renderOutput(dataTable, element);\n",
              "        const docLink = document.createElement('div');\n",
              "        docLink.innerHTML = docLinkHtml;\n",
              "        element.appendChild(docLink);\n",
              "      }\n",
              "    </script>\n",
              "  </div>\n",
              "\n",
              "\n",
              "<div id=\"df-6fc0d9f2-7ccf-4a03-958a-0781c4553998\">\n",
              "  <button class=\"colab-df-quickchart\" onclick=\"quickchart('df-6fc0d9f2-7ccf-4a03-958a-0781c4553998')\"\n",
              "            title=\"Suggest charts\"\n",
              "            style=\"display:none;\">\n",
              "\n",
              "<svg xmlns=\"http://www.w3.org/2000/svg\" height=\"24px\"viewBox=\"0 0 24 24\"\n",
              "     width=\"24px\">\n",
              "    <g>\n",
              "        <path d=\"M19 3H5c-1.1 0-2 .9-2 2v14c0 1.1.9 2 2 2h14c1.1 0 2-.9 2-2V5c0-1.1-.9-2-2-2zM9 17H7v-7h2v7zm4 0h-2V7h2v10zm4 0h-2v-4h2v4z\"/>\n",
              "    </g>\n",
              "</svg>\n",
              "  </button>\n",
              "\n",
              "<style>\n",
              "  .colab-df-quickchart {\n",
              "      --bg-color: #E8F0FE;\n",
              "      --fill-color: #1967D2;\n",
              "      --hover-bg-color: #E2EBFA;\n",
              "      --hover-fill-color: #174EA6;\n",
              "      --disabled-fill-color: #AAA;\n",
              "      --disabled-bg-color: #DDD;\n",
              "  }\n",
              "\n",
              "  [theme=dark] .colab-df-quickchart {\n",
              "      --bg-color: #3B4455;\n",
              "      --fill-color: #D2E3FC;\n",
              "      --hover-bg-color: #434B5C;\n",
              "      --hover-fill-color: #FFFFFF;\n",
              "      --disabled-bg-color: #3B4455;\n",
              "      --disabled-fill-color: #666;\n",
              "  }\n",
              "\n",
              "  .colab-df-quickchart {\n",
              "    background-color: var(--bg-color);\n",
              "    border: none;\n",
              "    border-radius: 50%;\n",
              "    cursor: pointer;\n",
              "    display: none;\n",
              "    fill: var(--fill-color);\n",
              "    height: 32px;\n",
              "    padding: 0;\n",
              "    width: 32px;\n",
              "  }\n",
              "\n",
              "  .colab-df-quickchart:hover {\n",
              "    background-color: var(--hover-bg-color);\n",
              "    box-shadow: 0 1px 2px rgba(60, 64, 67, 0.3), 0 1px 3px 1px rgba(60, 64, 67, 0.15);\n",
              "    fill: var(--button-hover-fill-color);\n",
              "  }\n",
              "\n",
              "  .colab-df-quickchart-complete:disabled,\n",
              "  .colab-df-quickchart-complete:disabled:hover {\n",
              "    background-color: var(--disabled-bg-color);\n",
              "    fill: var(--disabled-fill-color);\n",
              "    box-shadow: none;\n",
              "  }\n",
              "\n",
              "  .colab-df-spinner {\n",
              "    border: 2px solid var(--fill-color);\n",
              "    border-color: transparent;\n",
              "    border-bottom-color: var(--fill-color);\n",
              "    animation:\n",
              "      spin 1s steps(1) infinite;\n",
              "  }\n",
              "\n",
              "  @keyframes spin {\n",
              "    0% {\n",
              "      border-color: transparent;\n",
              "      border-bottom-color: var(--fill-color);\n",
              "      border-left-color: var(--fill-color);\n",
              "    }\n",
              "    20% {\n",
              "      border-color: transparent;\n",
              "      border-left-color: var(--fill-color);\n",
              "      border-top-color: var(--fill-color);\n",
              "    }\n",
              "    30% {\n",
              "      border-color: transparent;\n",
              "      border-left-color: var(--fill-color);\n",
              "      border-top-color: var(--fill-color);\n",
              "      border-right-color: var(--fill-color);\n",
              "    }\n",
              "    40% {\n",
              "      border-color: transparent;\n",
              "      border-right-color: var(--fill-color);\n",
              "      border-top-color: var(--fill-color);\n",
              "    }\n",
              "    60% {\n",
              "      border-color: transparent;\n",
              "      border-right-color: var(--fill-color);\n",
              "    }\n",
              "    80% {\n",
              "      border-color: transparent;\n",
              "      border-right-color: var(--fill-color);\n",
              "      border-bottom-color: var(--fill-color);\n",
              "    }\n",
              "    90% {\n",
              "      border-color: transparent;\n",
              "      border-bottom-color: var(--fill-color);\n",
              "    }\n",
              "  }\n",
              "</style>\n",
              "\n",
              "  <script>\n",
              "    async function quickchart(key) {\n",
              "      const quickchartButtonEl =\n",
              "        document.querySelector('#' + key + ' button');\n",
              "      quickchartButtonEl.disabled = true;  // To prevent multiple clicks.\n",
              "      quickchartButtonEl.classList.add('colab-df-spinner');\n",
              "      try {\n",
              "        const charts = await google.colab.kernel.invokeFunction(\n",
              "            'suggestCharts', [key], {});\n",
              "      } catch (error) {\n",
              "        console.error('Error during call to suggestCharts:', error);\n",
              "      }\n",
              "      quickchartButtonEl.classList.remove('colab-df-spinner');\n",
              "      quickchartButtonEl.classList.add('colab-df-quickchart-complete');\n",
              "    }\n",
              "    (() => {\n",
              "      let quickchartButtonEl =\n",
              "        document.querySelector('#df-6fc0d9f2-7ccf-4a03-958a-0781c4553998 button');\n",
              "      quickchartButtonEl.style.display =\n",
              "        google.colab.kernel.accessAllowed ? 'block' : 'none';\n",
              "    })();\n",
              "  </script>\n",
              "</div>\n",
              "\n",
              "    </div>\n",
              "  </div>\n"
            ],
            "application/vnd.google.colaboratory.intrinsic+json": {
              "type": "dataframe",
              "variable_name": "medium_data",
              "summary": "{\n  \"name\": \"medium_data\",\n  \"rows\": 6508,\n  \"fields\": [\n    {\n      \"column\": \"id\",\n      \"properties\": {\n        \"dtype\": \"number\",\n        \"std\": 1878,\n        \"min\": 1,\n        \"max\": 6508,\n        \"num_unique_values\": 6508,\n        \"samples\": [\n          3394,\n          5382,\n          4817\n        ],\n        \"semantic_type\": \"\",\n        \"description\": \"\"\n      }\n    },\n    {\n      \"column\": \"url\",\n      \"properties\": {\n        \"dtype\": \"string\",\n        \"num_unique_values\": 6508,\n        \"samples\": [\n          \"https://uxdesign.cc/why-agile-doesnt-work-30f8384ef60a\",\n          \"https://medium.com/swlh/how-i-became-obsessed-with-reading-816b9e4b91aa\",\n          \"https://medium.com/better-marketing/elevate-marketing-with-lessons-from-the-peloton-wife-ad-fiasco-671a4a3b72c1\"\n        ],\n        \"semantic_type\": \"\",\n        \"description\": \"\"\n      }\n    },\n    {\n      \"column\": \"title\",\n      \"properties\": {\n        \"dtype\": \"string\",\n        \"num_unique_values\": 6504,\n        \"samples\": [\n          \"Forget APIs Do Python Scraping Using Beautiful Soup, Import Data File from the web: Part\\u00a02\",\n          \"DDI\\u200a\\u2014\\u200aWeekly Selection September 18,\\u00a02019\",\n          \"Don\\u2019t ask yourself \\u2018what\\u2019 to write. It\\u2019s the wrong\\u00a0question\"\n        ],\n        \"semantic_type\": \"\",\n        \"description\": \"\"\n      }\n    },\n    {\n      \"column\": \"subtitle\",\n      \"properties\": {\n        \"dtype\": \"string\",\n        \"num_unique_values\": 3470,\n        \"samples\": [\n          \"Practical writing and editing process tips for working\\u00a0people.\",\n          \"two visionary ideas I\\u2019d like to see AI be able to achieve one\\u00a0day.\",\n          \"Full tutorial using different libraries\\u200a\\u2014\\u200aTesseractOCRiOS, SwiftOCR, and Google MLVision | Can we beat\\u00a0Google?\"\n        ],\n        \"semantic_type\": \"\",\n        \"description\": \"\"\n      }\n    },\n    {\n      \"column\": \"image\",\n      \"properties\": {\n        \"dtype\": \"string\",\n        \"num_unique_values\": 6361,\n        \"samples\": [\n          \"4853.jpeg\",\n          \"4938.jpg\",\n          \"481.jpeg\"\n        ],\n        \"semantic_type\": \"\",\n        \"description\": \"\"\n      }\n    },\n    {\n      \"column\": \"claps\",\n      \"properties\": {\n        \"dtype\": \"number\",\n        \"std\": 950,\n        \"min\": 0,\n        \"max\": 38000,\n        \"num_unique_values\": 854,\n        \"samples\": [\n          92,\n          385,\n          20\n        ],\n        \"semantic_type\": \"\",\n        \"description\": \"\"\n      }\n    },\n    {\n      \"column\": \"responses\",\n      \"properties\": {\n        \"dtype\": \"category\",\n        \"num_unique_values\": 56,\n        \"samples\": [\n          \"8\",\n          \"2\",\n          \"48\"\n        ],\n        \"semantic_type\": \"\",\n        \"description\": \"\"\n      }\n    },\n    {\n      \"column\": \"reading_time\",\n      \"properties\": {\n        \"dtype\": \"number\",\n        \"std\": 3,\n        \"min\": 0,\n        \"max\": 55,\n        \"num_unique_values\": 34,\n        \"samples\": [\n          22,\n          15,\n          0\n        ],\n        \"semantic_type\": \"\",\n        \"description\": \"\"\n      }\n    },\n    {\n      \"column\": \"publication\",\n      \"properties\": {\n        \"dtype\": \"category\",\n        \"num_unique_values\": 7,\n        \"samples\": [\n          \"Towards Data Science\",\n          \"UX Collective\",\n          \"Better Marketing\"\n        ],\n        \"semantic_type\": \"\",\n        \"description\": \"\"\n      }\n    },\n    {\n      \"column\": \"date\",\n      \"properties\": {\n        \"dtype\": \"object\",\n        \"num_unique_values\": 50,\n        \"samples\": [\n          \"2019-10-28\",\n          \"2019-06-04\",\n          \"2019-05-24\"\n        ],\n        \"semantic_type\": \"\",\n        \"description\": \"\"\n      }\n    }\n  ]\n}"
            }
          },
          "metadata": {},
          "execution_count": 5
        }
      ]
    },
    {
      "source": [
        "from matplotlib import pyplot as plt\n",
        "import seaborn as sns\n",
        "medium_data.groupby('publication').size().plot(kind='barh', color=sns.palettes.mpl_palette('Dark2'))\n",
        "plt.gca().spines[['top', 'right',]].set_visible(False)"
      ],
      "cell_type": "code",
      "execution_count": 8,
      "outputs": [
        {
          "output_type": "display_data",
          "data": {
            "text/plain": [
              "<Figure size 640x480 with 1 Axes>"
            ],
            "image/png": "[encoded data removed]"
          },
          "metadata": {}
        }
      ],
      "metadata": {
        "colab": {
          "base_uri": "https://localhost:8080/",
          "height": 430
        },
        "id": "i6E5uHySA53x",
        "outputId": "76b251d3-d17d-48de-c634-4e7bcb078401"
      }
    },
    {
      "cell_type": "markdown",
      "source": [],
      "metadata": {
        "id": "FvbCiuQJ7d7w"
      }
    },
    {
      "cell_type": "markdown",
      "source": [
        "Here, we have a **10 different fields and 6508 records** but we will only use **title field** for predicting next word."
      ],
      "metadata": {
        "id": "Ucx7h-Sv7d7w"
      }
    },
    {
      "cell_type": "code",
      "source": [
        "print(\"Number of records: \", medium_data.shape[0])\n",
        "print(\"Number of fields: \", medium_data.shape[1])"
      ],
      "metadata": {
        "execution": {
          "iopub.status.busy": "2021-08-15T06:01:47.510826Z",
          "iopub.execute_input": "2021-08-15T06:01:47.511158Z",
          "iopub.status.idle": "2021-08-15T06:01:47.519247Z",
          "shell.execute_reply.started": "2021-08-15T06:01:47.511125Z",
          "shell.execute_reply": "2021-08-15T06:01:47.518321Z"
        },
        "trusted": true,
        "colab": {
          "base_uri": "https://localhost:8080/"
        },
        "id": "_bsux6oy7d7w",
        "outputId": "6626b50b-e493-4668-d0e8-f1f1bc960691"
      },
      "execution_count": 9,
      "outputs": [
        {
          "output_type": "stream",
          "name": "stdout",
          "text": [
            "Number of records:  6508\n",
            "Number of fields:  10\n"
          ]
        }
      ]
    },
    {
      "cell_type": "markdown",
      "source": [
        "<a name=\"preprocess\"></a>\n",
        "# Display titles of various articles  and preprocess them"
      ],
      "metadata": {
        "id": "_pIoa3Ej7d7w"
      }
    },
    {
      "cell_type": "code",
      "source": [
        "medium_data['title']"
      ],
      "metadata": {
        "execution": {
          "iopub.status.busy": "2021-08-15T06:01:47.520873Z",
          "iopub.execute_input": "2021-08-15T06:01:47.521227Z",
          "iopub.status.idle": "2021-08-15T06:01:47.532676Z",
          "shell.execute_reply.started": "2021-08-15T06:01:47.521192Z",
          "shell.execute_reply": "2021-08-15T06:01:47.531720Z"
        },
        "trusted": true,
        "colab": {
          "base_uri": "https://localhost:8080/"
        },
        "id": "-Nj1zjmH7d7x",
        "outputId": "9c4a3a5c-e1bf-4097-9e5e-9d7d94e005e4"
      },
      "execution_count": 10,
      "outputs": [
        {
          "output_type": "execute_result",
          "data": {
            "text/plain": [
              "0       A Beginner’s Guide to Word Embedding with Gens...\n",
              "1       Hands-on Graph Neural Networks with PyTorch & ...\n",
              "2                            How to Use ggplot2 in Python\n",
              "3       Databricks: How to Save Files in CSV on Your L...\n",
              "4       A Step-by-Step Implementation of Gradient Desc...\n",
              "                              ...                        \n",
              "6503    “We” vs “I” — How Should You Talk About Yourse...\n",
              "6504                     How Donald Trump Markets Himself\n",
              "6505        Content and Marketing Beyond Mass Consumption\n",
              "6506    5 Questions All Copywriters Should Ask Clients...\n",
              "6507               How To Write a Good Business Blog Post\n",
              "Name: title, Length: 6508, dtype: object"
            ]
          },
          "metadata": {},
          "execution_count": 10
        }
      ]
    },
    {
      "cell_type": "markdown",
      "source": [
        "<a name=\"remv\"></a>\n",
        "#### Removing unwanted characters and words in titles\n",
        "\n",
        "Looking at titles, we can see there are some of unwanted characters and words in it which can not be useful for us to predict infact it might decrease our model accuracy so we have to remove it."
      ],
      "metadata": {
        "id": "3hYYrKJe7d7x"
      }
    },
    {
      "cell_type": "code",
      "source": [
        "medium_data['title'] = medium_data['title'].apply(lambda x: x.replace(u'\\xa0',u' '))\n",
        "medium_data['title'] = medium_data['title'].apply(lambda x: x.replace('\\u200a',' '))"
      ],
      "metadata": {
        "execution": {
          "iopub.status.busy": "2021-08-15T06:01:47.533991Z",
          "iopub.execute_input": "2021-08-15T06:01:47.534329Z",
          "iopub.status.idle": "2021-08-15T06:01:47.548767Z",
          "shell.execute_reply.started": "2021-08-15T06:01:47.534293Z",
          "shell.execute_reply": "2021-08-15T06:01:47.547944Z"
        },
        "trusted": true,
        "id": "cOXci8eE7d7y"
      },
      "execution_count": 11,
      "outputs": []
    },
    {
      "cell_type": "markdown",
      "source": [
        "<a name=\"token\"></a>\n",
        "#### Tokenzation\n",
        "\n",
        "Tokenzaion is the process in which we provide an unique id to all the words and make a word index or we can say vocabulary."
      ],
      "metadata": {
        "id": "VBRs_QBo7d7y"
      }
    },
    {
      "cell_type": "code",
      "source": [
        "tokenizer = Tokenizer(oov_token='<oov>') # For those words which are not found in word_index\n",
        "tokenizer.fit_on_texts(medium_data['title'])\n",
        "total_words = len(tokenizer.word_index) + 1\n",
        "total_words"
      ],
      "metadata": {
        "execution": {
          "iopub.status.busy": "2021-08-15T06:01:47.550835Z",
          "iopub.execute_input": "2021-08-15T06:01:47.551072Z",
          "iopub.status.idle": "2021-08-15T06:01:47.663779Z",
          "shell.execute_reply.started": "2021-08-15T06:01:47.551049Z",
          "shell.execute_reply": "2021-08-15T06:01:47.662838Z"
        },
        "trusted": true,
        "colab": {
          "base_uri": "https://localhost:8080/"
        },
        "id": "CBZd-Ayz7d7y",
        "outputId": "61148ebe-b43b-4267-f84c-cfdda7e04300"
      },
      "execution_count": 12,
      "outputs": [
        {
          "output_type": "execute_result",
          "data": {
            "text/plain": [
              "8238"
            ]
          },
          "metadata": {},
          "execution_count": 12
        }
      ]
    },
    {
      "cell_type": "code",
      "source": [
        "import pandas as pd\n",
        "import seaborn as sns\n",
        "import matplotlib.pyplot as plt\n",
        "\n",
        "# Create a dictionary with your data\n",
        "data = {\n",
        "    'Word': ['<oov>', 'Strong', 'And', 'Consumption'],\n",
        "    'ID': [\n",
        "        tokenizer.word_index['<oov>'],\n",
        "        tokenizer.word_index['strong'],\n",
        "        tokenizer.word_index['and'],\n",
        "        tokenizer.word_index['consumption']\n",
        "    ]\n",
        "}\n",
        "\n",
        "# Create DataFrame\n",
        "df = pd.DataFrame(data)\n",
        "\n",
        "# Set the style of the visualization\n",
        "sns.set(style=\"whitegrid\")\n",
        "\n",
        "# Create a larger figure to better see details\n",
        "plt.figure(figsize=(10, 2))\n",
        "\n",
        "# Title for the table\n",
        "plt.title('Word IDs in Tokenizer', fontdict={'fontsize': 16})\n",
        "\n",
        "# Use seaborn's color palette for better visuals\n",
        "cm = sns.light_palette(\"green\", as_cmap=True)\n",
        "\n",
        "# Display the DataFrame as a more visually appealing table\n",
        "s = sns.heatmap(df.set_index('Word').T, annot=True, fmt=\"d\", cmap=cm, linewidths=.5, cbar=False)\n",
        "\n",
        "# Hide x labels and tick labels for top axes and y ticks for right axes\n",
        "s.set_yticklabels(s.get_yticklabels(), rotation=0)\n",
        "s.set_xticklabels(s.get_xticklabels(), rotation=45, horizontalalignment='right')\n",
        "\n",
        "# Remove the 'ID' label for cleaner aesthetics\n",
        "s.yaxis.label.set_visible(False)\n",
        "\n",
        "plt.show()\n"
      ],
      "metadata": {
        "colab": {
          "base_uri": "https://localhost:8080/",
          "height": 334
        },
        "id": "r9_6Iwap9Lr6",
        "outputId": "477f560f-5528-46b4-ac45-353d5a16ba8b"
      },
      "execution_count": 13,
      "outputs": [
        {
          "output_type": "display_data",
          "data": {
            "text/plain": [
              "<Figure size 1000x200 with 1 Axes>"
            ],
            "image/png": "[encoded data removed]"
          },
          "metadata": {}
        }
      ]
    },
    {
      "cell_type": "markdown",
      "source": [
        "<a name=\"ngram\"></a>\n",
        "#### Titles text into sequences and make n_gram model\n",
        "\n",
        "suppose, we have sentence like **\"I am Yash\"** and this will convert into a sequence with their respective tokens **{'I': 1,'am': 2,'Yash': 3}**. Thus, output will be  **[ '1' ,'2' ,'3' ]**\n",
        "\n",
        "Likewise, our all titles will be converted into sequences.\n",
        "\n",
        "Then, we will make a n_gram model for good prediction."
      ],
      "metadata": {
        "id": "-mi2osCi7d7z"
      }
    },
    {
      "cell_type": "code",
      "source": [
        "input_sequences = []\n",
        "for line in medium_data['title']:\n",
        "    token_list = tokenizer.texts_to_sequences([line])[0]\n",
        "    #print(token_list)\n",
        "\n",
        "    for i in range(1, len(token_list)):\n",
        "        n_gram_sequence = token_list[:i+1]\n",
        "        input_sequences.append(n_gram_sequence)\n",
        "\n",
        "# print(input_sequences)\n",
        "print(\"Total input sequences: \", len(input_sequences))"
      ],
      "metadata": {
        "execution": {
          "iopub.status.busy": "2021-08-15T06:01:47.664941Z",
          "iopub.execute_input": "2021-08-15T06:01:47.665262Z",
          "iopub.status.idle": "2021-08-15T06:01:47.930099Z",
          "shell.execute_reply.started": "2021-08-15T06:01:47.665229Z",
          "shell.execute_reply": "2021-08-15T06:01:47.929279Z"
        },
        "trusted": true,
        "colab": {
          "base_uri": "https://localhost:8080/"
        },
        "id": "0amTggXs7d7z",
        "outputId": "8321f3ef-482b-4c65-e304-f1f512e6f995"
      },
      "execution_count": 16,
      "outputs": [
        {
          "output_type": "stream",
          "name": "stdout",
          "text": [
            "Total input sequences:  48461\n"
          ]
        }
      ]
    },
    {
      "cell_type": "markdown",
      "source": [
        "<a name=\"pad\"></a>\n",
        "#### Make all titles with same length by using padding\n",
        "\n",
        "The length of every title has to be the same. To make it, we need to find a title that has a maximum length, and based on that length, we have to pad rest of titles."
      ],
      "metadata": {
        "id": "lmu-PLOX7d7z"
      }
    },
    {
      "cell_type": "code",
      "source": [
        "# pad sequences\n",
        "max_sequence_len = max([len(x) for x in input_sequences])\n",
        "input_sequences = np.array(pad_sequences(input_sequences, maxlen=max_sequence_len, padding='pre'))\n",
        "input_sequences[1]"
      ],
      "metadata": {
        "execution": {
          "iopub.status.busy": "2021-08-15T06:01:47.932125Z",
          "iopub.execute_input": "2021-08-15T06:01:47.932372Z",
          "iopub.status.idle": "2021-08-15T06:01:48.252362Z",
          "shell.execute_reply.started": "2021-08-15T06:01:47.932348Z",
          "shell.execute_reply": "2021-08-15T06:01:48.251427Z"
        },
        "trusted": true,
        "colab": {
          "base_uri": "https://localhost:8080/"
        },
        "id": "LQz3tQ0G7d7z",
        "outputId": "cb34ed10-af2f-4d58-e604-031fc964f8db"
      },
      "execution_count": 17,
      "outputs": [
        {
          "output_type": "execute_result",
          "data": {
            "text/plain": [
              "array([  0,   0,   0,   0,   0,   0,   0,   0,   0,   0,   0,   0,   0,\n",
              "         0,   0,   0,   0,   0,   0,   0,   0,   0,   0,   0,   0,   0,\n",
              "         0,   0,   0,   0,   0,   0,   0,   0,   0,   0,   0,   5, 676,\n",
              "        68], dtype=int32)"
            ]
          },
          "metadata": {},
          "execution_count": 17
        }
      ]
    },
    {
      "cell_type": "markdown",
      "source": [
        "<a name=\"xy\"></a>\n",
        "# Prepare features and labels\n",
        "\n",
        "Here, we consider **last element of all sequences as a label**.Then,\n",
        "We need to perform **onehot encoding on labels corresponding to total_words.**"
      ],
      "metadata": {
        "id": "rP3V3D2V7d70"
      }
    },
    {
      "cell_type": "code",
      "source": [
        "# create features and label\n",
        "xs, labels = input_sequences[:,:-1],input_sequences[:,-1]\n",
        "ys = tf.keras.utils.to_categorical(labels, num_classes=total_words)"
      ],
      "metadata": {
        "execution": {
          "iopub.status.busy": "2021-08-15T06:01:48.254026Z",
          "iopub.execute_input": "2021-08-15T06:01:48.254375Z",
          "iopub.status.idle": "2021-08-15T06:01:48.356166Z",
          "shell.execute_reply.started": "2021-08-15T06:01:48.254340Z",
          "shell.execute_reply": "2021-08-15T06:01:48.355311Z"
        },
        "trusted": true,
        "id": "nE6Wgi817d70"
      },
      "execution_count": 18,
      "outputs": []
    },
    {
      "cell_type": "code",
      "source": [
        "print(xs[5])\n",
        "print(labels[5])\n",
        "print(ys[5][14])"
      ],
      "metadata": {
        "execution": {
          "iopub.status.busy": "2021-08-15T06:01:48.357493Z",
          "iopub.execute_input": "2021-08-15T06:01:48.357852Z",
          "iopub.status.idle": "2021-08-15T06:01:48.365385Z",
          "shell.execute_reply.started": "2021-08-15T06:01:48.357816Z",
          "shell.execute_reply": "2021-08-15T06:01:48.364265Z"
        },
        "trusted": true,
        "colab": {
          "base_uri": "https://localhost:8080/"
        },
        "id": "6HNBxnjf7d70",
        "outputId": "eaf2d237-fe75-42a2-fbd7-430a4cea0efb"
      },
      "execution_count": 19,
      "outputs": [
        {
          "output_type": "stream",
          "name": "stdout",
          "text": [
            "[   0    0    0    0    0    0    0    0    0    0    0    0    0    0\n",
            "    0    0    0    0    0    0    0    0    0    0    0    0    0    0\n",
            "    0    0    0    0    0    5  676   68    2  452 1518]\n",
            "14\n",
            "1.0\n"
          ]
        }
      ]
    },
    {
      "cell_type": "markdown",
      "source": [
        "<a name=\"blstm\"></a>\n",
        "# Architechture of Bidirectional LSTM Neural Network\n",
        "\n",
        "Long Short-Term Memory (LSTM) networks is an advance recurrent neural network which is apable to store order states by using its cell state feature."
      ],
      "metadata": {
        "id": "Cen_-pZM7d70"
      }
    },
    {
      "cell_type": "markdown",
      "source": [
        "<a name=\"train\"></a>\n",
        "# Bi- LSTM Neural Network Model training"
      ],
      "metadata": {
        "id": "Jm1ASE2D7d70"
      }
    },
    {
      "cell_type": "code",
      "source": [
        "model = Sequential()\n",
        "model.add(Embedding(total_words, 100, input_length=max_sequence_len-1))\n",
        "model.add(Bidirectional(LSTM(150)))\n",
        "model.add(Dense(total_words, activation='softmax'))\n",
        "adam = Adam(lr=0.01)\n",
        "model.compile(loss='categorical_crossentropy', optimizer=adam, metrics=['accuracy'])\n",
        "history = model.fit(xs, ys, epochs=50, verbose=1)\n",
        "#print model.summary()\n",
        "print(model)\n"
      ],
      "metadata": {
        "execution": {
          "iopub.status.busy": "2021-08-15T06:01:48.366921Z",
          "iopub.execute_input": "2021-08-15T06:01:48.367655Z",
          "iopub.status.idle": "2021-08-15T06:22:51.089948Z",
          "shell.execute_reply.started": "2021-08-15T06:01:48.367616Z",
          "shell.execute_reply": "2021-08-15T06:22:51.089023Z"
        },
        "trusted": true,
        "colab": {
          "base_uri": "https://localhost:8080/"
        },
        "id": "CoKKW-Nx7d70",
        "outputId": "62f8fac9-a95d-42bf-e904-a30089bc3834"
      },
      "execution_count": 20,
      "outputs": [
        {
          "metadata": {
            "tags": null
          },
          "name": "stderr",
          "output_type": "stream",
          "text": [
            "WARNING:absl:`lr` is deprecated in Keras optimizer, please use `learning_rate` or use the legacy optimizer, e.g.,tf.keras.optimizers.legacy.Adam.\n"
          ]
        },
        {
          "output_type": "stream",
          "name": "stdout",
          "text": [
            "Epoch 1/50\n",
            "1515/1515 [==============================] - 91s 58ms/step - loss: 7.0002 - accuracy: 0.0839\n",
            "Epoch 2/50\n",
            "1515/1515 [==============================] - 88s 58ms/step - loss: 6.1639 - accuracy: 0.1383\n",
            "Epoch 3/50\n",
            "1515/1515 [==============================] - 87s 57ms/step - loss: 5.6507 - accuracy: 0.1663\n",
            "Epoch 4/50\n",
            "1515/1515 [==============================] - 89s 59ms/step - loss: 5.1787 - accuracy: 0.1883\n",
            "Epoch 5/50\n",
            "1515/1515 [==============================] - 90s 59ms/step - loss: 4.7264 - accuracy: 0.2165\n",
            "Epoch 6/50\n",
            "1515/1515 [==============================] - 87s 58ms/step - loss: 4.3025 - accuracy: 0.2470\n",
            "Epoch 7/50\n",
            "1515/1515 [==============================] - 89s 59ms/step - loss: 3.9019 - accuracy: 0.2897\n",
            "Epoch 8/50\n",
            "1515/1515 [==============================] - 88s 58ms/step - loss: 3.5272 - accuracy: 0.3383\n",
            "Epoch 9/50\n",
            "1515/1515 [==============================] - 88s 58ms/step - loss: 3.1748 - accuracy: 0.3939\n",
            "Epoch 10/50\n",
            "1515/1515 [==============================] - 88s 58ms/step - loss: 2.8567 - accuracy: 0.4467\n",
            "Epoch 11/50\n",
            "1515/1515 [==============================] - 89s 59ms/step - loss: 2.5727 - accuracy: 0.4974\n",
            "Epoch 12/50\n",
            "1515/1515 [==============================] - 90s 60ms/step - loss: 2.3213 - accuracy: 0.5409\n",
            "Epoch 13/50\n",
            "1515/1515 [==============================] - 89s 59ms/step - loss: 2.1001 - accuracy: 0.5867\n",
            "Epoch 14/50\n",
            "1515/1515 [==============================] - 90s 59ms/step - loss: 1.9049 - accuracy: 0.6238\n",
            "Epoch 15/50\n",
            "1515/1515 [==============================] - 91s 60ms/step - loss: 1.7325 - accuracy: 0.6557\n",
            "Epoch 16/50\n",
            "1515/1515 [==============================] - 91s 60ms/step - loss: 1.5781 - accuracy: 0.6869\n",
            "Epoch 17/50\n",
            "1515/1515 [==============================] - 90s 59ms/step - loss: 1.4439 - accuracy: 0.7135\n",
            "Epoch 18/50\n",
            "1515/1515 [==============================] - 89s 59ms/step - loss: 1.3243 - accuracy: 0.7358\n",
            "Epoch 19/50\n",
            "1515/1515 [==============================] - 89s 59ms/step - loss: 1.2196 - accuracy: 0.7573\n",
            "Epoch 20/50\n",
            "1515/1515 [==============================] - 88s 58ms/step - loss: 1.1296 - accuracy: 0.7749\n",
            "Epoch 21/50\n",
            "1515/1515 [==============================] - 88s 58ms/step - loss: 1.0530 - accuracy: 0.7881\n",
            "Epoch 22/50\n",
            "1515/1515 [==============================] - 89s 59ms/step - loss: 0.9839 - accuracy: 0.7993\n",
            "Epoch 23/50\n",
            "1515/1515 [==============================] - 88s 58ms/step - loss: 0.9249 - accuracy: 0.8110\n",
            "Epoch 24/50\n",
            "1515/1515 [==============================] - 89s 59ms/step - loss: 0.8750 - accuracy: 0.8204\n",
            "Epoch 25/50\n",
            "1515/1515 [==============================] - 90s 59ms/step - loss: 0.8308 - accuracy: 0.8271\n",
            "Epoch 26/50\n",
            "1515/1515 [==============================] - 89s 59ms/step - loss: 0.7933 - accuracy: 0.8331\n",
            "Epoch 27/50\n",
            "1515/1515 [==============================] - 91s 60ms/step - loss: 0.7625 - accuracy: 0.8375\n",
            "Epoch 28/50\n",
            "1515/1515 [==============================] - 89s 59ms/step - loss: 0.7345 - accuracy: 0.8413\n",
            "Epoch 29/50\n",
            "1515/1515 [==============================] - 88s 58ms/step - loss: 0.7110 - accuracy: 0.8448\n",
            "Epoch 30/50\n",
            "1515/1515 [==============================] - 88s 58ms/step - loss: 0.6908 - accuracy: 0.8480\n",
            "Epoch 31/50\n",
            "1515/1515 [==============================] - 89s 59ms/step - loss: 0.6742 - accuracy: 0.8487\n",
            "Epoch 32/50\n",
            "1515/1515 [==============================] - 91s 60ms/step - loss: 0.6603 - accuracy: 0.8505\n",
            "Epoch 33/50\n",
            "1515/1515 [==============================] - 89s 59ms/step - loss: 0.6474 - accuracy: 0.8515\n",
            "Epoch 34/50\n",
            "1515/1515 [==============================] - 93s 61ms/step - loss: 0.6367 - accuracy: 0.8526\n",
            "Epoch 35/50\n",
            "1515/1515 [==============================] - 92s 61ms/step - loss: 0.6294 - accuracy: 0.8531\n",
            "Epoch 36/50\n",
            "1515/1515 [==============================] - 89s 59ms/step - loss: 0.6188 - accuracy: 0.8552\n",
            "Epoch 37/50\n",
            "1515/1515 [==============================] - 89s 59ms/step - loss: 0.6120 - accuracy: 0.8544\n",
            "Epoch 38/50\n",
            "1515/1515 [==============================] - 89s 59ms/step - loss: 0.6091 - accuracy: 0.8544\n",
            "Epoch 39/50\n",
            "1515/1515 [==============================] - 89s 58ms/step - loss: 0.6012 - accuracy: 0.8544\n",
            "Epoch 40/50\n",
            "1515/1515 [==============================] - 90s 59ms/step - loss: 0.5974 - accuracy: 0.8537\n",
            "Epoch 41/50\n",
            "1515/1515 [==============================] - 90s 59ms/step - loss: 0.5903 - accuracy: 0.8560\n",
            "Epoch 42/50\n",
            "1515/1515 [==============================] - 89s 59ms/step - loss: 0.5890 - accuracy: 0.8552\n",
            "Epoch 43/50\n",
            "1515/1515 [==============================] - 89s 59ms/step - loss: 0.5852 - accuracy: 0.8550\n",
            "Epoch 44/50\n",
            "1515/1515 [==============================] - 92s 61ms/step - loss: 0.5819 - accuracy: 0.8560\n",
            "Epoch 45/50\n",
            "1515/1515 [==============================] - 92s 61ms/step - loss: 0.5813 - accuracy: 0.8550\n",
            "Epoch 46/50\n",
            "1515/1515 [==============================] - 93s 61ms/step - loss: 0.5782 - accuracy: 0.8548\n",
            "Epoch 47/50\n",
            "1515/1515 [==============================] - 92s 61ms/step - loss: 0.5761 - accuracy: 0.8551\n",
            "Epoch 48/50\n",
            "1515/1515 [==============================] - 91s 60ms/step - loss: 0.5702 - accuracy: 0.8565\n",
            "Epoch 49/50\n",
            "1515/1515 [==============================] - 90s 60ms/step - loss: 0.5710 - accuracy: 0.8559\n",
            "Epoch 50/50\n",
            "1515/1515 [==============================] - 90s 59ms/step - loss: 0.5681 - accuracy: 0.8557\n",
            "<keras.src.engine.sequential.Sequential object at 0x78c0834335b0>\n"
          ]
        }
      ]
    },
    {
      "cell_type": "markdown",
      "source": [
        "<a name=\"acc\"></a>\n",
        "# Plotting model accuracy and loss"
      ],
      "metadata": {
        "id": "GrCH1ZC87d71"
      }
    },
    {
      "cell_type": "code",
      "source": [
        "import matplotlib.pyplot as plt\n",
        "\n",
        "\n",
        "def plot_graphs(history, string):\n",
        "    plt.plot(history.history[string])\n",
        "    plt.xlabel(\"Epochs\")\n",
        "    plt.ylabel(string)\n",
        "    plt.show()"
      ],
      "metadata": {
        "execution": {
          "iopub.status.busy": "2021-08-15T06:22:51.092692Z",
          "iopub.execute_input": "2021-08-15T06:22:51.092945Z",
          "iopub.status.idle": "2021-08-15T06:22:51.097521Z",
          "shell.execute_reply.started": "2021-08-15T06:22:51.092921Z",
          "shell.execute_reply": "2021-08-15T06:22:51.096585Z"
        },
        "trusted": true,
        "id": "7lcI5Rum7d71"
      },
      "execution_count": 21,
      "outputs": []
    },
    {
      "cell_type": "code",
      "source": [
        "plot_graphs(history, 'accuracy')"
      ],
      "metadata": {
        "execution": {
          "iopub.status.busy": "2021-08-15T06:22:51.098715Z",
          "iopub.execute_input": "2021-08-15T06:22:51.099252Z",
          "iopub.status.idle": "2021-08-15T06:22:51.256410Z",
          "shell.execute_reply.started": "2021-08-15T06:22:51.099215Z",
          "shell.execute_reply": "2021-08-15T06:22:51.255568Z"
        },
        "trusted": true,
        "id": "SczG4OBq7d71",
        "outputId": "aafb2fff-31dc-49e7-9e5c-95584021cb64"
      },
      "execution_count": null,
      "outputs": [
        {
          "output_type": "display_data",
          "data": {
            "text/plain": "<Figure size 432x288 with 1 Axes>",
            "image/png": "[encoded data removed]"
          },
          "metadata": {
            "needs_background": "light"
          }
        }
      ]
    },
    {
      "cell_type": "code",
      "source": [
        "plot_graphs(history, 'loss')"
      ],
      "metadata": {
        "execution": {
          "iopub.status.busy": "2021-08-15T06:22:51.257557Z",
          "iopub.execute_input": "2021-08-15T06:22:51.257867Z",
          "iopub.status.idle": "2021-08-15T06:22:51.379243Z",
          "shell.execute_reply.started": "2021-08-15T06:22:51.257833Z",
          "shell.execute_reply": "2021-08-15T06:22:51.378467Z"
        },
        "trusted": true,
        "colab": {
          "base_uri": "https://localhost:8080/",
          "height": 458
        },
        "id": "JoiO86mc7d71",
        "outputId": "820af757-c158-4d1b-d795-1c4c976b4784"
      },
      "execution_count": 22,
      "outputs": [
        {
          "output_type": "display_data",
          "data": {
            "text/plain": [
              "<Figure size 640x480 with 1 Axes>"
            ],
            "image/png": "[encoded data removed]"
          },
          "metadata": {}
        }
      ]
    },
    {
      "cell_type": "markdown",
      "source": [
        "<a name=\"new\"></a>\n",
        "# Predicting next word of title"
      ],
      "metadata": {
        "id": "4O4887Xi7d72"
      }
    },
    {
      "cell_type": "code",
      "source": [
        "seed_text = \"implementation of\"\n",
        "next_words = 2\n",
        "\n",
        "for _ in range(next_words):\n",
        "    token_list = tokenizer.texts_to_sequences([seed_text])[0]\n",
        "    token_list = pad_sequences([token_list], maxlen=max_sequence_len-1, padding='pre')\n",
        "    predictions = model.predict(token_list, verbose=0)\n",
        "    predicted = np.argmax(predictions, axis=-1)  # Get the index of the max probability\n",
        "    output_word = \"\"\n",
        "    for word, index in tokenizer.word_index.items():\n",
        "        if index == predicted:\n",
        "            output_word = word\n",
        "            break\n",
        "    seed_text += \" \" + output_word\n",
        "\n",
        "print(seed_text)\n"
      ],
      "metadata": {
        "execution": {
          "iopub.status.busy": "2021-08-15T06:22:51.380501Z",
          "iopub.execute_input": "2021-08-15T06:22:51.380838Z",
          "iopub.status.idle": "2021-08-15T06:22:52.015269Z",
          "shell.execute_reply.started": "2021-08-15T06:22:51.380802Z",
          "shell.execute_reply": "2021-08-15T06:22:52.014289Z"
        },
        "trusted": true,
        "colab": {
          "base_uri": "https://localhost:8080/"
        },
        "id": "fZGkevZh7d72",
        "outputId": "3dda6a5e-b787-498f-e914-03471d58ebb1"
      },
      "execution_count": 24,
      "outputs": [
        {
          "output_type": "stream",
          "name": "stdout",
          "text": [
            "implementation of rnn lstm\n"
          ]
        }
      ]
    },
    {
      "cell_type": "code",
      "source": [
        "model.save(\"inline-text-prediction-50\")"
      ],
      "metadata": {
        "id": "4Go_B7RoUGPZ"
      },
      "execution_count": 25,
      "outputs": []
    },
    {
      "cell_type": "code",
      "source": [
        "from google.colab import files\n",
        "\n",
        "# !zip -r inline-text-prediction-50.zip inline-text-prediction-50\n",
        "files.download(\"inline-text-prediction-50.zip\")\n"
      ],
      "metadata": {
        "colab": {
          "base_uri": "https://localhost:8080/",
          "height": 34
        },
        "id": "zPxQMkgZUc03",
        "outputId": "0625404a-7f48-4014-a3ae-36f8eb70016c"
      },
      "execution_count": 29,
      "outputs": [
        {
          "output_type": "display_data",
          "data": {
            "text/plain": [
              "<IPython.core.display.Javascript object>"
            ],
            "application/javascript": [
              "\n",
              "    async function download(id, filename, size) {\n",
              "      if (!google.colab.kernel.accessAllowed) {\n",
              "        return;\n",
              "      }\n",
              "      const div = document.createElement('div');\n",
              "      const label = document.createElement('label');\n",
              "      label.textContent = `Downloading \"${filename}\": `;\n",
              "      div.appendChild(label);\n",
              "      const progress = document.createElement('progress');\n",
              "      progress.max = size;\n",
              "      div.appendChild(progress);\n",
              "      document.body.appendChild(div);\n",
              "\n",
              "      const buffers = [];\n",
              "      let downloaded = 0;\n",
              "\n",
              "      const channel = await google.colab.kernel.comms.open(id);\n",
              "      // Send a message to notify the kernel that we're ready.\n",
              "      channel.send({})\n",
              "\n",
              "      for await (const message of channel.messages) {\n",
              "        // Send a message to notify the kernel that we're ready.\n",
              "        channel.send({})\n",
              "        if (message.buffers) {\n",
              "          for (const buffer of message.buffers) {\n",
              "            buffers.push(buffer);\n",
              "            downloaded += buffer.byteLength;\n",
              "            progress.value = downloaded;\n",
              "          }\n",
              "        }\n",
              "      }\n",
              "      const blob = new Blob(buffers, {type: 'application/binary'});\n",
              "      const a = document.createElement('a');\n",
              "      a.href = window.URL.createObjectURL(blob);\n",
              "      a.download = filename;\n",
              "      div.appendChild(a);\n",
              "      a.click();\n",
              "      div.remove();\n",
              "    }\n",
              "  "
            ]
          },
          "metadata": {}
        },
        {
          "output_type": "display_data",
          "data": {
            "text/plain": [
              "<IPython.core.display.Javascript object>"
            ],
            "application/javascript": [
              "download(\"download_3867cee3-9c61-4d79-b32b-33d860cecc91\", \"inline-text-prediction-50.zip\", 40333819)"
            ]
          },
          "metadata": {}
        }
      ]
    }
  ]
}